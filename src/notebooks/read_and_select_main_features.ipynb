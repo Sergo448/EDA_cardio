{
 "cells": [
  {
   "cell_type": "code",
   "execution_count": 1,
   "id": "79f73ca8-4a52-41b4-a763-f2c6c70e91c2",
   "metadata": {},
   "outputs": [],
   "source": [
    "import os\n",
    "\n",
    "import pandas as pd\n",
    "import numpy as np\n",
    "import matplotlib.pyplot as plt\n",
    "import seaborn as sns\n",
    "\n",
    "from sklearn.model_selection import train_test_split\n",
    "from sklearn.preprocessing import MinMaxScaler\n",
    "from sklearn.feature_selection import SelectKBest,chi2,RFE\n",
    "from sklearn.ensemble import RandomForestClassifier\n",
    "sns.set();"
   ]
  },
  {
   "cell_type": "markdown",
   "id": "3964453b-f3a1-4cef-bbe8-da4548e2f868",
   "metadata": {},
   "source": [
    "## Задаем пути"
   ]
  },
  {
   "cell_type": "code",
   "execution_count": 2,
   "id": "14ec7e8d-8d54-42eb-8e05-8679c39a9453",
   "metadata": {},
   "outputs": [],
   "source": [
    "PROJECT_FOLDER: str = 'P:\\\\Python Projects\\\\EDA_cardio'\n",
    "DATASET_NAME: str = 'cardio_train.csv'\n",
    "DATA_PATH: str = os.path.join(PROJECT_FOLDER, 'src', 'raw', DATASET_NAME)\n",
    "\n",
    "RESULT_PATH: str = os.path.join(PROJECT_FOLDER, 'src', 'visualizations')"
   ]
  },
  {
   "cell_type": "markdown",
   "id": "1013cdd8-54e0-43dd-bca1-96254175cd88",
   "metadata": {},
   "source": [
    "## Читаем и смотрим"
   ]
  },
  {
   "cell_type": "code",
   "execution_count": 3,
   "id": "dea26537-4fbf-45d2-a78e-dfc68b490f62",
   "metadata": {},
   "outputs": [],
   "source": [
    "data = pd.read_csv(os.path.join(DATA_PATH), sep=';')"
   ]
  },
  {
   "cell_type": "code",
   "execution_count": 4,
   "id": "66921686-7d37-41e9-985b-02ffac49b3c9",
   "metadata": {},
   "outputs": [
    {
     "data": {
      "text/plain": [
       "(70000, 13)"
      ]
     },
     "execution_count": 4,
     "metadata": {},
     "output_type": "execute_result"
    }
   ],
   "source": [
    "data.shape"
   ]
  },
  {
   "cell_type": "code",
   "execution_count": 5,
   "id": "3df95bb6-0bb6-459d-b4e0-252771119268",
   "metadata": {},
   "outputs": [
    {
     "data": {
      "text/html": [
       "<div>\n",
       "<style scoped>\n",
       "    .dataframe tbody tr th:only-of-type {\n",
       "        vertical-align: middle;\n",
       "    }\n",
       "\n",
       "    .dataframe tbody tr th {\n",
       "        vertical-align: top;\n",
       "    }\n",
       "\n",
       "    .dataframe thead th {\n",
       "        text-align: right;\n",
       "    }\n",
       "</style>\n",
       "<table border=\"1\" class=\"dataframe\">\n",
       "  <thead>\n",
       "    <tr style=\"text-align: right;\">\n",
       "      <th></th>\n",
       "      <th>id</th>\n",
       "      <th>age</th>\n",
       "      <th>gender</th>\n",
       "      <th>height</th>\n",
       "      <th>weight</th>\n",
       "      <th>ap_hi</th>\n",
       "      <th>ap_lo</th>\n",
       "      <th>cholesterol</th>\n",
       "      <th>gluc</th>\n",
       "      <th>smoke</th>\n",
       "      <th>alco</th>\n",
       "      <th>active</th>\n",
       "      <th>cardio</th>\n",
       "    </tr>\n",
       "  </thead>\n",
       "  <tbody>\n",
       "    <tr>\n",
       "      <th>0</th>\n",
       "      <td>0</td>\n",
       "      <td>18393</td>\n",
       "      <td>2</td>\n",
       "      <td>168</td>\n",
       "      <td>62.0</td>\n",
       "      <td>110</td>\n",
       "      <td>80</td>\n",
       "      <td>1</td>\n",
       "      <td>1</td>\n",
       "      <td>0</td>\n",
       "      <td>0</td>\n",
       "      <td>1</td>\n",
       "      <td>0</td>\n",
       "    </tr>\n",
       "    <tr>\n",
       "      <th>1</th>\n",
       "      <td>1</td>\n",
       "      <td>20228</td>\n",
       "      <td>1</td>\n",
       "      <td>156</td>\n",
       "      <td>85.0</td>\n",
       "      <td>140</td>\n",
       "      <td>90</td>\n",
       "      <td>3</td>\n",
       "      <td>1</td>\n",
       "      <td>0</td>\n",
       "      <td>0</td>\n",
       "      <td>1</td>\n",
       "      <td>1</td>\n",
       "    </tr>\n",
       "    <tr>\n",
       "      <th>2</th>\n",
       "      <td>2</td>\n",
       "      <td>18857</td>\n",
       "      <td>1</td>\n",
       "      <td>165</td>\n",
       "      <td>64.0</td>\n",
       "      <td>130</td>\n",
       "      <td>70</td>\n",
       "      <td>3</td>\n",
       "      <td>1</td>\n",
       "      <td>0</td>\n",
       "      <td>0</td>\n",
       "      <td>0</td>\n",
       "      <td>1</td>\n",
       "    </tr>\n",
       "    <tr>\n",
       "      <th>3</th>\n",
       "      <td>3</td>\n",
       "      <td>17623</td>\n",
       "      <td>2</td>\n",
       "      <td>169</td>\n",
       "      <td>82.0</td>\n",
       "      <td>150</td>\n",
       "      <td>100</td>\n",
       "      <td>1</td>\n",
       "      <td>1</td>\n",
       "      <td>0</td>\n",
       "      <td>0</td>\n",
       "      <td>1</td>\n",
       "      <td>1</td>\n",
       "    </tr>\n",
       "    <tr>\n",
       "      <th>4</th>\n",
       "      <td>4</td>\n",
       "      <td>17474</td>\n",
       "      <td>1</td>\n",
       "      <td>156</td>\n",
       "      <td>56.0</td>\n",
       "      <td>100</td>\n",
       "      <td>60</td>\n",
       "      <td>1</td>\n",
       "      <td>1</td>\n",
       "      <td>0</td>\n",
       "      <td>0</td>\n",
       "      <td>0</td>\n",
       "      <td>0</td>\n",
       "    </tr>\n",
       "  </tbody>\n",
       "</table>\n",
       "</div>"
      ],
      "text/plain": [
       "   id    age  gender  height  weight  ap_hi  ap_lo  cholesterol  gluc  smoke  \\\n",
       "0   0  18393       2     168    62.0    110     80            1     1      0   \n",
       "1   1  20228       1     156    85.0    140     90            3     1      0   \n",
       "2   2  18857       1     165    64.0    130     70            3     1      0   \n",
       "3   3  17623       2     169    82.0    150    100            1     1      0   \n",
       "4   4  17474       1     156    56.0    100     60            1     1      0   \n",
       "\n",
       "   alco  active  cardio  \n",
       "0     0       1       0  \n",
       "1     0       1       1  \n",
       "2     0       0       1  \n",
       "3     0       1       1  \n",
       "4     0       0       0  "
      ]
     },
     "execution_count": 5,
     "metadata": {},
     "output_type": "execute_result"
    }
   ],
   "source": [
    "data.head()"
   ]
  },
  {
   "cell_type": "code",
   "execution_count": 6,
   "id": "ab83936d-f1cb-4c4a-8ca2-29175d739188",
   "metadata": {},
   "outputs": [
    {
     "name": "stdout",
     "output_type": "stream",
     "text": [
      "<class 'pandas.core.frame.DataFrame'>\n",
      "RangeIndex: 70000 entries, 0 to 69999\n",
      "Data columns (total 13 columns):\n",
      " #   Column       Non-Null Count  Dtype  \n",
      "---  ------       --------------  -----  \n",
      " 0   id           70000 non-null  int64  \n",
      " 1   age          70000 non-null  int64  \n",
      " 2   gender       70000 non-null  int64  \n",
      " 3   height       70000 non-null  int64  \n",
      " 4   weight       70000 non-null  float64\n",
      " 5   ap_hi        70000 non-null  int64  \n",
      " 6   ap_lo        70000 non-null  int64  \n",
      " 7   cholesterol  70000 non-null  int64  \n",
      " 8   gluc         70000 non-null  int64  \n",
      " 9   smoke        70000 non-null  int64  \n",
      " 10  alco         70000 non-null  int64  \n",
      " 11  active       70000 non-null  int64  \n",
      " 12  cardio       70000 non-null  int64  \n",
      "dtypes: float64(1), int64(12)\n",
      "memory usage: 6.9 MB\n"
     ]
    }
   ],
   "source": [
    "data.info()"
   ]
  },
  {
   "cell_type": "raw",
   "id": "e899ad5f-67e7-415e-a649-c7b93b7c0854",
   "metadata": {},
   "source": [
    "Здесь ясно видно, что пропуски значений отсутствуют. По всем признакам, во всех строках, все значения не‑нулевые non‑null и можно начать работу с нашим Dataframe, не беспокоясь об очистке пропусков."
   ]
  },
  {
   "cell_type": "markdown",
   "id": "8810f67c-3878-45f2-9e3f-88e7fb5c85d1",
   "metadata": {},
   "source": [
    "# MAIN"
   ]
  },
  {
   "cell_type": "raw",
   "id": "b31042c8-9fad-4883-897b-f895024c5aeb",
   "metadata": {},
   "source": [
    "Как сделать отбор отдельных атрибутов (признаков) нашего набора данных, который является одной из основных задач фазы предварительной обработки. Но прежде чем погрузиться в кодирование и реализовать различные методы, используемые для подобных задач, давайте сначала определим, что подразумевается под отбором признаков. Отбор признаков — это процесс выбора подмножества атрибутов из набора данных, которые больше всего влияют на производительность модели, при этом не используются какие-либо преобразования."
   ]
  },
  {
   "cell_type": "raw",
   "id": "a7e43b01-b2f7-4eaa-a327-b76b18c0f3e9",
   "metadata": {},
   "source": [
    "Сохраним столбец метки в отдельной переменной и полностью удалим его (поэтому и используем inplace = True) из Dataframe. Этот шаг важен для разделения нашего набора данных на обучающий и проверочный в дополнение к тому, что необходима адаптация их к нашей модели."
   ]
  },
  {
   "cell_type": "code",
   "execution_count": 7,
   "id": "3ae925b8-bdde-48cc-9b16-0ea4c3dc7422",
   "metadata": {},
   "outputs": [
    {
     "name": "stdout",
     "output_type": "stream",
     "text": [
      "\n",
      "\n",
      "Значение метки \"cardio\":\n",
      "cardio\n",
      "0    35021\n",
      "1    34979\n",
      "Name: count, dtype: int64\n"
     ]
    }
   ],
   "source": [
    "label = data[\"cardio\"]\n",
    "data.drop(\"cardio\", axis=1, inplace=True)\n",
    "print('\\n\\nЗначение метки \"cardio\":')\n",
    "print(label.value_counts())"
   ]
  },
  {
   "cell_type": "raw",
   "id": "7817978e-a9b6-4a69-ad31-c216f50d399b",
   "metadata": {},
   "source": [
    "Важно всегда проверять, насколько сбалансирован наш набор. Большой дисбаланс между классами меньшинства и большинства отрицательно повлияет на модель в том смысле, что она будет наивно предсказывать только класс большинства. Однако, в нашем случае коэффициент дисбаланса, 150 / 120, составляет всего 1,25, что вполне себе удовлетворительно."
   ]
  },
  {
   "cell_type": "code",
   "execution_count": 8,
   "id": "2d854e20-b059-46aa-8b2d-0286f96cb27e",
   "metadata": {},
   "outputs": [
    {
     "data": {
      "image/png": "[encoded data removed]",
      "text/plain": [
       "<Figure size 640x480 with 1 Axes>"
      ]
     },
     "metadata": {},
     "output_type": "display_data"
    }
   ],
   "source": [
    "# создаем диаграмму, где ось x - это признак, а Y указывает значение метки\n",
    "label.value_counts().plot(kind=\"bar\");"
   ]
  },
  {
   "cell_type": "raw",
   "id": "7ffd2399-460a-45a5-b9f3-ac60c1180f70",
   "metadata": {},
   "source": [
    "В нашем наборе данных есть признаки, имеющие категориальный характер. Однако, при печати этих столбцов мы наблюдаем, что они определяются, как данные целого типа и рассматриваются как целые числа, что может сбить с толку нашу модель, которая при обучении примет их за некий континиум значений, несмотря на то, что они дискретны по сути своей."
   ]
  },
  {
   "cell_type": "raw",
   "id": "691e0f57-7b5f-4fbb-bab8-2ebabf204f99",
   "metadata": {},
   "source": [
    "По этой причине явно изменим их тип на категориальный, используя метод astype() pandas."
   ]
  },
  {
   "cell_type": "code",
   "execution_count": 9,
   "id": "5e5a5880-eda5-471d-ba94-a73e28f75103",
   "metadata": {},
   "outputs": [],
   "source": [
    "categorical_features = [\"gender\", \"ap_lo\", \"ap_hi\", \"cholesterol\", \"gluc\", \"smoke\", \"alco\", \"active\"]\n",
    "data[categorical_features] = data[categorical_features].astype(\"category\")"
   ]
  },
  {
   "cell_type": "code",
   "execution_count": 12,
   "id": "73b740c7-7f21-4c34-8773-ef33091c7ec2",
   "metadata": {},
   "outputs": [
    {
     "name": "stdout",
     "output_type": "stream",
     "text": [
      "<class 'pandas.core.frame.DataFrame'>\n",
      "RangeIndex: 70000 entries, 0 to 69999\n",
      "Data columns (total 12 columns):\n",
      " #   Column       Non-Null Count  Dtype   \n",
      "---  ------       --------------  -----   \n",
      " 0   id           70000 non-null  int64   \n",
      " 1   age          70000 non-null  int64   \n",
      " 2   gender       70000 non-null  category\n",
      " 3   height       70000 non-null  int64   \n",
      " 4   weight       70000 non-null  float64 \n",
      " 5   ap_hi        70000 non-null  category\n",
      " 6   ap_lo        70000 non-null  category\n",
      " 7   cholesterol  70000 non-null  category\n",
      " 8   gluc         70000 non-null  category\n",
      " 9   smoke        70000 non-null  category\n",
      " 10  alco         70000 non-null  category\n",
      " 11  active       70000 non-null  category\n",
      "dtypes: category(8), float64(1), int64(3)\n",
      "memory usage: 2.8 MB\n"
     ]
    }
   ],
   "source": [
    "data.info()"
   ]
  },
  {
   "cell_type": "raw",
   "id": "0896be81-8e99-4d6b-99fb-a4ab304cab4e",
   "metadata": {},
   "source": [
    "Теперь будем масштабировать наши непрерывные функции с помощью MinMaxScaler. Это тип нормализации, когда значения загоняются в диапазоне от 0 до 1."
   ]
  },
  {
   "cell_type": "code",
   "execution_count": 13,
   "id": "030a2a7b-8ace-4e02-993d-cd443ba0030a",
   "metadata": {},
   "outputs": [],
   "source": [
    "continuous_features = set(data.columns) - set(categorical_features)\n",
    "scaler = MinMaxScaler()\n",
    "df_norm = data.copy()\n",
    "df_norm[list(continuous_features)] = scaler.fit_transform(data[list(continuous_features)])"
   ]
  },
  {
   "cell_type": "markdown",
   "id": "1b78b1f9-6adc-4236-9947-741ae291a799",
   "metadata": {},
   "source": [
    "# Отбор признаков с помощью X^2"
   ]
  },
  {
   "cell_type": "raw",
   "id": "57a0ee21-3524-4b6b-8360-3f10454cdeee",
   "metadata": {},
   "source": [
    "Тест спределение хи-квадратએ) используется в статистике для проверки независимости двух событий. Учитывая данные двух переменных, мы можем получить наблюдаемое число и ожидаемое число.\n",
    "Иизмеряет, как ожидаемое число и наблюдаемое число отклоняются друг от друга.\n",
    "\n",
    "При отборе признаков, поскольку проверяет степень независимости между двумя переменными, а мы хотим сохранить только признаки, наиболее зависимые от метки, то будем вычислять между каждым признаком и меткой, сохраняя только k признаки с наибольшими значениями. Будет правильно использовать SelectKBest из модуля sklearn.feature_selection. При этом SelectKBest требует два гиперпараметра:\n",
    "\n",
    "k: количество функций, которые мы хотим выбрать.\n",
    "score_func: функция, на которой основан процесс выбора."
   ]
  },
  {
   "cell_type": "markdown",
   "id": "edb7a39f-6ab1-4ae5-9f2a-ef3395a8b902",
   "metadata": {},
   "source": [
    "## Отбор признаков с использованием рекурсивного исключения признаков (RFE)"
   ]
  },
  {
   "cell_type": "raw",
   "id": "5330701e-d07d-41de-ae97-df9d599209f6",
   "metadata": {},
   "source": [
    "В документации sklearn написано, что цель recursive feature elimination (RFE), исключения рекурсивных признаков, — выбрать признаки путем рекурсивного рассмотрения все меньших и меньших наборов признаков. Будем использовать для этого модуль sklearn.feature_selection для импорта класса RFE. RFE требует двух гиперпараметров:\n",
    "\n",
    "n_features_to_select: количество функций, которые мы хотим выбрать.\n",
    "estimator: какой тип модели машинного обучения будет использоваться для прогнозирования на каждой итерации при рекурсивном поиске соответствующего набора признаков."
   ]
  },
  {
   "cell_type": "code",
   "execution_count": 15,
   "id": "6a0c197b-f9b8-406a-8322-c34522728229",
   "metadata": {},
   "outputs": [
    {
     "data": {
      "text/plain": [
       "array([[0.00000000e+00, 5.88075881e-01, 5.79487179e-01, 2.73684211e-01,\n",
       "        1.10000000e+02],\n",
       "       [1.00001000e-05, 7.30158730e-01, 5.17948718e-01, 3.94736842e-01,\n",
       "        1.40000000e+02],\n",
       "       [2.00002000e-05, 6.24003097e-01, 5.64102564e-01, 2.84210526e-01,\n",
       "        1.30000000e+02],\n",
       "       ...,\n",
       "       [9.99970000e-01, 6.40185830e-01, 6.56410256e-01, 5.00000000e-01,\n",
       "        1.80000000e+02],\n",
       "       [9.99990000e-01, 9.00735579e-01, 5.53846154e-01, 3.26315789e-01,\n",
       "        1.35000000e+02],\n",
       "       [1.00000000e+00, 7.54316686e-01, 5.89743590e-01, 3.26315789e-01,\n",
       "        1.20000000e+02]])"
      ]
     },
     "execution_count": 15,
     "metadata": {},
     "output_type": "execute_result"
    }
   ],
   "source": [
    "rfe = RFE(estimator=RandomForestClassifier(), n_features_to_select=5)\n",
    "X_new = rfe.fit_transform(df_norm, label)\n",
    "X_new"
   ]
  },
  {
   "cell_type": "markdown",
   "id": "9d3c469f-0e0b-43f4-b029-f87058b457cc",
   "metadata": {},
   "source": [
    "## Отбор признаков с использованием случайного леса (Random Forest)"
   ]
  },
  {
   "cell_type": "raw",
   "id": "ee0340cd-75c5-4a6f-a367-4e9f71a12ced",
   "metadata": {},
   "source": [
    "Алгоритмы машинного обучения на основе деревьев (Random Forest), такие как DecisionTreeClassifier или их эквивалент для ансамблевого обучения RandomForestClassifier, используют набор деревьев, которые содержат узлы, полученные в результате разделения. Основная цель этих расщеплений — максимально возможно уменьшить количество «шумов» таких, как энтропия и коэффициент Джини. Эти деревья, основанные на моделях могут рассчитать, насколько важен признак, рассчитав степень уменьшения «шумов» за счёт этого признака."
   ]
  },
  {
   "cell_type": "code",
   "execution_count": 16,
   "id": "fa2958ed-5e51-4154-9855-7d6c65860264",
   "metadata": {},
   "outputs": [
    {
     "data": {
      "text/plain": [
       "([0, 1, 2, 3, 4, 5, 6, 7, 8, 9, 10, 11],\n",
       " [Text(0, 0, 'id'),\n",
       "  Text(1, 0, 'age'),\n",
       "  Text(2, 0, 'gender'),\n",
       "  Text(3, 0, 'height'),\n",
       "  Text(4, 0, 'weight'),\n",
       "  Text(5, 0, 'ap_hi'),\n",
       "  Text(6, 0, 'ap_lo'),\n",
       "  Text(7, 0, 'cholesterol'),\n",
       "  Text(8, 0, 'gluc'),\n",
       "  Text(9, 0, 'smoke'),\n",
       "  Text(10, 0, 'alco'),\n",
       "  Text(11, 0, 'active')])"
      ]
     },
     "execution_count": 16,
     "metadata": {},
     "output_type": "execute_result"
    },
    {
     "data": {
      "image/png": "[encoded data removed]",
      "text/plain": [
       "<Figure size 1200x1200 with 1 Axes>"
      ]
     },
     "metadata": {},
     "output_type": "display_data"
    }
   ],
   "source": [
    "clf = RandomForestClassifier()\n",
    "clf.fit(df_norm, label)\n",
    "# create a figure to plot a bar, where x axis is features, and Y indicating the importance of each feature\n",
    "plt.figure(figsize=(12,12))\n",
    "plt.bar(df_norm.columns, clf.feature_importances_)\n",
    "plt.xticks(rotation=45)"
   ]
  },
  {
   "cell_type": "code",
   "execution_count": null,
   "id": "a75743c5-cae4-4869-9a96-c3e2d2edd37f",
   "metadata": {},
   "outputs": [],
   "source": []
  }
 ],
 "metadata": {
  "kernelspec": {
   "display_name": "Python 3 (ipykernel)",
   "language": "python",
   "name": "python3"
  },
  "language_info": {
   "codemirror_mode": {
    "name": "ipython",
    "version": 3
   },
   "file_extension": ".py",
   "mimetype": "text/x-python",
   "name": "python",
   "nbconvert_exporter": "python",
   "pygments_lexer": "ipython3",
   "version": "3.9.13"
  }
 },
 "nbformat": 4,
 "nbformat_minor": 5
}
