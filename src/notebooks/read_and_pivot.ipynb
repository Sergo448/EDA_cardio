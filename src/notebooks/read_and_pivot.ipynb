{
 "cells": [
  {
   "cell_type": "code",
   "execution_count": 1,
   "id": "bd774b9b-dfca-4c21-ae4e-1619c6b724df",
   "metadata": {},
   "outputs": [],
   "source": [
    "import os\n",
    "\n",
    "import pandas as pd\n",
    "import numpy as np\n",
    "import matplotlib.pyplot as plt\n",
    "import seaborn as sns\n",
    "sns.set();"
   ]
  },
  {
   "cell_type": "markdown",
   "id": "9eb527f0-cccc-4013-a4a3-5cba1e087f51",
   "metadata": {},
   "source": [
    "## Задаем все необходимые пути"
   ]
  },
  {
   "cell_type": "code",
   "execution_count": 2,
   "id": "9986cf9d-8333-42e3-9b7e-815fd65c5987",
   "metadata": {},
   "outputs": [],
   "source": [
    "PROJECT_FOLDER: str = 'P:\\\\Python Projects\\\\EDA_cardio'\n",
    "DATASET_NAME: str = 'cardio_train.csv'\n",
    "DATA_PATH: str = os.path.join(PROJECT_FOLDER, 'src', 'raw', DATASET_NAME)\n",
    "\n",
    "RESULT_PATH: str = os.path.join(PROJECT_FOLDER, 'src', 'visualizations')"
   ]
  },
  {
   "cell_type": "markdown",
   "id": "481bffe8-e4d3-48e0-a695-84067a42145a",
   "metadata": {},
   "source": [
    "## Читаем и смотрим что внутри"
   ]
  },
  {
   "cell_type": "code",
   "execution_count": 3,
   "id": "73b9d60f-b524-4c9f-b761-6ebbf747679b",
   "metadata": {},
   "outputs": [],
   "source": [
    "data = pd.read_csv(os.path.join(DATA_PATH), sep=';')"
   ]
  },
  {
   "cell_type": "code",
   "execution_count": 4,
   "id": "7014e1b6-e9c3-4d84-9459-a4750fdee151",
   "metadata": {},
   "outputs": [
    {
     "data": {
      "text/html": [
       "<div>\n",
       "<style scoped>\n",
       "    .dataframe tbody tr th:only-of-type {\n",
       "        vertical-align: middle;\n",
       "    }\n",
       "\n",
       "    .dataframe tbody tr th {\n",
       "        vertical-align: top;\n",
       "    }\n",
       "\n",
       "    .dataframe thead th {\n",
       "        text-align: right;\n",
       "    }\n",
       "</style>\n",
       "<table border=\"1\" class=\"dataframe\">\n",
       "  <thead>\n",
       "    <tr style=\"text-align: right;\">\n",
       "      <th></th>\n",
       "      <th>count</th>\n",
       "      <th>mean</th>\n",
       "      <th>std</th>\n",
       "      <th>min</th>\n",
       "      <th>25%</th>\n",
       "      <th>50%</th>\n",
       "      <th>75%</th>\n",
       "      <th>max</th>\n",
       "    </tr>\n",
       "  </thead>\n",
       "  <tbody>\n",
       "    <tr>\n",
       "      <th>id</th>\n",
       "      <td>70000.0</td>\n",
       "      <td>49972.419900</td>\n",
       "      <td>28851.302323</td>\n",
       "      <td>0.0</td>\n",
       "      <td>25006.75</td>\n",
       "      <td>50001.5</td>\n",
       "      <td>74889.25</td>\n",
       "      <td>99999.0</td>\n",
       "    </tr>\n",
       "    <tr>\n",
       "      <th>age</th>\n",
       "      <td>70000.0</td>\n",
       "      <td>19468.865814</td>\n",
       "      <td>2467.251667</td>\n",
       "      <td>10798.0</td>\n",
       "      <td>17664.00</td>\n",
       "      <td>19703.0</td>\n",
       "      <td>21327.00</td>\n",
       "      <td>23713.0</td>\n",
       "    </tr>\n",
       "    <tr>\n",
       "      <th>gender</th>\n",
       "      <td>70000.0</td>\n",
       "      <td>1.349571</td>\n",
       "      <td>0.476838</td>\n",
       "      <td>1.0</td>\n",
       "      <td>1.00</td>\n",
       "      <td>1.0</td>\n",
       "      <td>2.00</td>\n",
       "      <td>2.0</td>\n",
       "    </tr>\n",
       "    <tr>\n",
       "      <th>height</th>\n",
       "      <td>70000.0</td>\n",
       "      <td>164.359229</td>\n",
       "      <td>8.210126</td>\n",
       "      <td>55.0</td>\n",
       "      <td>159.00</td>\n",
       "      <td>165.0</td>\n",
       "      <td>170.00</td>\n",
       "      <td>250.0</td>\n",
       "    </tr>\n",
       "    <tr>\n",
       "      <th>weight</th>\n",
       "      <td>70000.0</td>\n",
       "      <td>74.205690</td>\n",
       "      <td>14.395757</td>\n",
       "      <td>10.0</td>\n",
       "      <td>65.00</td>\n",
       "      <td>72.0</td>\n",
       "      <td>82.00</td>\n",
       "      <td>200.0</td>\n",
       "    </tr>\n",
       "    <tr>\n",
       "      <th>ap_hi</th>\n",
       "      <td>70000.0</td>\n",
       "      <td>128.817286</td>\n",
       "      <td>154.011419</td>\n",
       "      <td>-150.0</td>\n",
       "      <td>120.00</td>\n",
       "      <td>120.0</td>\n",
       "      <td>140.00</td>\n",
       "      <td>16020.0</td>\n",
       "    </tr>\n",
       "    <tr>\n",
       "      <th>ap_lo</th>\n",
       "      <td>70000.0</td>\n",
       "      <td>96.630414</td>\n",
       "      <td>188.472530</td>\n",
       "      <td>-70.0</td>\n",
       "      <td>80.00</td>\n",
       "      <td>80.0</td>\n",
       "      <td>90.00</td>\n",
       "      <td>11000.0</td>\n",
       "    </tr>\n",
       "    <tr>\n",
       "      <th>cholesterol</th>\n",
       "      <td>70000.0</td>\n",
       "      <td>1.366871</td>\n",
       "      <td>0.680250</td>\n",
       "      <td>1.0</td>\n",
       "      <td>1.00</td>\n",
       "      <td>1.0</td>\n",
       "      <td>2.00</td>\n",
       "      <td>3.0</td>\n",
       "    </tr>\n",
       "    <tr>\n",
       "      <th>gluc</th>\n",
       "      <td>70000.0</td>\n",
       "      <td>1.226457</td>\n",
       "      <td>0.572270</td>\n",
       "      <td>1.0</td>\n",
       "      <td>1.00</td>\n",
       "      <td>1.0</td>\n",
       "      <td>1.00</td>\n",
       "      <td>3.0</td>\n",
       "    </tr>\n",
       "    <tr>\n",
       "      <th>smoke</th>\n",
       "      <td>70000.0</td>\n",
       "      <td>0.088129</td>\n",
       "      <td>0.283484</td>\n",
       "      <td>0.0</td>\n",
       "      <td>0.00</td>\n",
       "      <td>0.0</td>\n",
       "      <td>0.00</td>\n",
       "      <td>1.0</td>\n",
       "    </tr>\n",
       "    <tr>\n",
       "      <th>alco</th>\n",
       "      <td>70000.0</td>\n",
       "      <td>0.053771</td>\n",
       "      <td>0.225568</td>\n",
       "      <td>0.0</td>\n",
       "      <td>0.00</td>\n",
       "      <td>0.0</td>\n",
       "      <td>0.00</td>\n",
       "      <td>1.0</td>\n",
       "    </tr>\n",
       "    <tr>\n",
       "      <th>active</th>\n",
       "      <td>70000.0</td>\n",
       "      <td>0.803729</td>\n",
       "      <td>0.397179</td>\n",
       "      <td>0.0</td>\n",
       "      <td>1.00</td>\n",
       "      <td>1.0</td>\n",
       "      <td>1.00</td>\n",
       "      <td>1.0</td>\n",
       "    </tr>\n",
       "    <tr>\n",
       "      <th>cardio</th>\n",
       "      <td>70000.0</td>\n",
       "      <td>0.499700</td>\n",
       "      <td>0.500003</td>\n",
       "      <td>0.0</td>\n",
       "      <td>0.00</td>\n",
       "      <td>0.0</td>\n",
       "      <td>1.00</td>\n",
       "      <td>1.0</td>\n",
       "    </tr>\n",
       "  </tbody>\n",
       "</table>\n",
       "</div>"
      ],
      "text/plain": [
       "               count          mean           std      min       25%      50%  \\\n",
       "id           70000.0  49972.419900  28851.302323      0.0  25006.75  50001.5   \n",
       "age          70000.0  19468.865814   2467.251667  10798.0  17664.00  19703.0   \n",
       "gender       70000.0      1.349571      0.476838      1.0      1.00      1.0   \n",
       "height       70000.0    164.359229      8.210126     55.0    159.00    165.0   \n",
       "weight       70000.0     74.205690     14.395757     10.0     65.00     72.0   \n",
       "ap_hi        70000.0    128.817286    154.011419   -150.0    120.00    120.0   \n",
       "ap_lo        70000.0     96.630414    188.472530    -70.0     80.00     80.0   \n",
       "cholesterol  70000.0      1.366871      0.680250      1.0      1.00      1.0   \n",
       "gluc         70000.0      1.226457      0.572270      1.0      1.00      1.0   \n",
       "smoke        70000.0      0.088129      0.283484      0.0      0.00      0.0   \n",
       "alco         70000.0      0.053771      0.225568      0.0      0.00      0.0   \n",
       "active       70000.0      0.803729      0.397179      0.0      1.00      1.0   \n",
       "cardio       70000.0      0.499700      0.500003      0.0      0.00      0.0   \n",
       "\n",
       "                  75%      max  \n",
       "id           74889.25  99999.0  \n",
       "age          21327.00  23713.0  \n",
       "gender           2.00      2.0  \n",
       "height         170.00    250.0  \n",
       "weight          82.00    200.0  \n",
       "ap_hi          140.00  16020.0  \n",
       "ap_lo           90.00  11000.0  \n",
       "cholesterol      2.00      3.0  \n",
       "gluc             1.00      3.0  \n",
       "smoke            0.00      1.0  \n",
       "alco             0.00      1.0  \n",
       "active           1.00      1.0  \n",
       "cardio           1.00      1.0  "
      ]
     },
     "execution_count": 4,
     "metadata": {},
     "output_type": "execute_result"
    }
   ],
   "source": [
    "data.describe().T"
   ]
  },
  {
   "cell_type": "markdown",
   "id": "812ad989-268b-453c-ba96-2d53e6351beb",
   "metadata": {},
   "source": [
    "# Сводные таблицы"
   ]
  },
  {
   "cell_type": "markdown",
   "id": "2b06ab34-b52a-4253-94ba-66f22d17e07a",
   "metadata": {},
   "source": [
    "Для исследования трёх и более признаков полезным инструментов являются сводные таблицы (pivot tables). Этот инструмент хорошо знаком продвинутым пользователям электронных таблиц Excel, Google Spreadsheets. Рассмотрим, как с помощью сводной таблицы ответить на вопросы:\n",
    "\n",
    "1) верно ли, что с возрастом люди становятся более склонны к употреблению алкоголя;\n",
    "2) верно ли, что среди курящих процент ССЗ больше."
   ]
  },
  {
   "cell_type": "code",
   "execution_count": 6,
   "id": "f9936f6d-78db-479c-8aed-459e3c089581",
   "metadata": {},
   "outputs": [
    {
     "data": {
      "text/html": [
       "<div>\n",
       "<style scoped>\n",
       "    .dataframe tbody tr th:only-of-type {\n",
       "        vertical-align: middle;\n",
       "    }\n",
       "\n",
       "    .dataframe tbody tr th {\n",
       "        vertical-align: top;\n",
       "    }\n",
       "\n",
       "    .dataframe thead th {\n",
       "        text-align: right;\n",
       "    }\n",
       "</style>\n",
       "<table border=\"1\" class=\"dataframe\">\n",
       "  <thead>\n",
       "    <tr style=\"text-align: right;\">\n",
       "      <th></th>\n",
       "      <th></th>\n",
       "      <th>age</th>\n",
       "      <th>cardio</th>\n",
       "    </tr>\n",
       "    <tr>\n",
       "      <th>smoke</th>\n",
       "      <th>alco</th>\n",
       "      <th></th>\n",
       "      <th></th>\n",
       "    </tr>\n",
       "  </thead>\n",
       "  <tbody>\n",
       "    <tr>\n",
       "      <th rowspan=\"2\" valign=\"top\">0</th>\n",
       "      <th>0</th>\n",
       "      <td>19508.899743</td>\n",
       "      <td>0.501462</td>\n",
       "    </tr>\n",
       "    <tr>\n",
       "      <th>1</th>\n",
       "      <td>19391.964921</td>\n",
       "      <td>0.523037</td>\n",
       "    </tr>\n",
       "    <tr>\n",
       "      <th rowspan=\"2\" valign=\"top\">1</th>\n",
       "      <th>0</th>\n",
       "      <td>19162.716107</td>\n",
       "      <td>0.487833</td>\n",
       "    </tr>\n",
       "    <tr>\n",
       "      <th>1</th>\n",
       "      <td>18923.545307</td>\n",
       "      <td>0.444444</td>\n",
       "    </tr>\n",
       "  </tbody>\n",
       "</table>\n",
       "</div>"
      ],
      "text/plain": [
       "                     age    cardio\n",
       "smoke alco                        \n",
       "0     0     19508.899743  0.501462\n",
       "      1     19391.964921  0.523037\n",
       "1     0     19162.716107  0.487833\n",
       "      1     18923.545307  0.444444"
      ]
     },
     "execution_count": 6,
     "metadata": {},
     "output_type": "execute_result"
    }
   ],
   "source": [
    "# values - признаки, по которым вычисляются значения функции aggfunc\n",
    "# index - признаки, по которым выполняется группировка\n",
    "data.pivot_table(values=['age', 'cardio'], index=['smoke', 'alco'], aggfunc='mean')"
   ]
  },
  {
   "cell_type": "raw",
   "id": "7ed4fd20-1f92-4490-81a1-4b5749b5cefb",
   "metadata": {},
   "source": [
    "Как видим, ответы на оба вопроса отрицательные. Склонность к алкоголю, похоже, не коррелирует с возрастом, а процент ССЗ оказался выше среди некурящих.\n",
    "\n",
    "Чтобы понять, как связаны употребление алкоголя и курение, посмотрим на кросс-таблицу (таблицу сопряжённости):"
   ]
  },
  {
   "cell_type": "code",
   "execution_count": 7,
   "id": "643d58e7-573c-4435-a14f-771a00288065",
   "metadata": {},
   "outputs": [
    {
     "data": {
      "text/html": [
       "<div>\n",
       "<style scoped>\n",
       "    .dataframe tbody tr th:only-of-type {\n",
       "        vertical-align: middle;\n",
       "    }\n",
       "\n",
       "    .dataframe tbody tr th {\n",
       "        vertical-align: top;\n",
       "    }\n",
       "\n",
       "    .dataframe thead th {\n",
       "        text-align: right;\n",
       "    }\n",
       "</style>\n",
       "<table border=\"1\" class=\"dataframe\">\n",
       "  <thead>\n",
       "    <tr style=\"text-align: right;\">\n",
       "      <th>alco</th>\n",
       "      <th>0</th>\n",
       "      <th>1</th>\n",
       "    </tr>\n",
       "    <tr>\n",
       "      <th>smoke</th>\n",
       "      <th></th>\n",
       "      <th></th>\n",
       "    </tr>\n",
       "  </thead>\n",
       "  <tbody>\n",
       "    <tr>\n",
       "      <th>0</th>\n",
       "      <td>61921</td>\n",
       "      <td>1910</td>\n",
       "    </tr>\n",
       "    <tr>\n",
       "      <th>1</th>\n",
       "      <td>4315</td>\n",
       "      <td>1854</td>\n",
       "    </tr>\n",
       "  </tbody>\n",
       "</table>\n",
       "</div>"
      ],
      "text/plain": [
       "alco       0     1\n",
       "smoke             \n",
       "0      61921  1910\n",
       "1       4315  1854"
      ]
     },
     "execution_count": 7,
     "metadata": {},
     "output_type": "execute_result"
    }
   ],
   "source": [
    "pd.crosstab(data['smoke'], data['alco'])"
   ]
  },
  {
   "cell_type": "raw",
   "id": "68f87e65-ef93-4b01-96bb-9da88d284ec5",
   "metadata": {},
   "source": [
    "Пока можно только сказать, что непьющих и некурящих пациентов существенно больше, чем всех остальных. Для обоснованных выводов о взаимосвязи следует обратиться к численным расчётам."
   ]
  },
  {
   "cell_type": "markdown",
   "id": "d4deca22-d414-4ac0-944d-416598110a15",
   "metadata": {},
   "source": [
    "# Выборка данных по условию. Способы индексирования в Pandas"
   ]
  },
  {
   "cell_type": "raw",
   "id": "ccc6147c-0dc2-4326-aeff-84fee48a7ca4",
   "metadata": {},
   "source": [
    "Выборка данных по условию. Способы индексирования в Pandas\n",
    "Иногда нам нужно провести вычисления не на всей обучающей выборке, а на некоторой её части. Для этого нужно знать и понимать способы доступа к ячейкам в датафреймах.\n",
    "\n",
    "Начнём с исследования одного признака \"в себе\". Для примера возьмём рост."
   ]
  },
  {
   "cell_type": "code",
   "execution_count": 8,
   "id": "8b77bab3-47c0-41be-8a73-b21d13b0ca85",
   "metadata": {},
   "outputs": [
    {
     "data": {
      "text/plain": [
       "pandas.core.series.Series"
      ]
     },
     "execution_count": 8,
     "metadata": {},
     "output_type": "execute_result"
    }
   ],
   "source": [
    "h = data['height'] # сохраним всю колонку \"рост\" в отдельную переменную для экспериментов\n",
    "type(h) # посмотрим тип "
   ]
  },
  {
   "cell_type": "raw",
   "id": "fd027270-cfa9-4d14-b738-b503675e05c8",
   "metadata": {},
   "source": [
    "Таким образом, видим, что таблица (датафрейм, DataFrame) представляет собой набор именованных столбцов (рядов, Series). Доступ к столбцам осуществляется по ключу --- названию столбца, как в словарях Python. Технически можно представлять себе датафрейм как словарь столбцов.\n",
    "\n",
    "А как же насчёт строк?"
   ]
  },
  {
   "cell_type": "code",
   "execution_count": 10,
   "id": "1a9a18f5-8d65-4754-a925-99df93eeeebc",
   "metadata": {},
   "outputs": [
    {
     "name": "stdout",
     "output_type": "stream",
     "text": [
      "id                 0.0\n",
      "age            18393.0\n",
      "gender             2.0\n",
      "height           168.0\n",
      "weight            62.0\n",
      "ap_hi            110.0\n",
      "ap_lo             80.0\n",
      "cholesterol        1.0\n",
      "gluc               1.0\n",
      "smoke              0.0\n",
      "alco               0.0\n",
      "active             1.0\n",
      "cardio             0.0\n",
      "Name: 0, dtype: float64\n"
     ]
    }
   ],
   "source": [
    "first_patient = data.iloc[0]\n",
    "print(first_patient)"
   ]
  },
  {
   "cell_type": "raw",
   "id": "b51e2af1-225f-4cdf-844e-8d451b77f5b6",
   "metadata": {},
   "source": [
    "И опять мы видим, что технически строка датафрейма представляет собой словарь. Ключами словаря являются имена столбцов, значениями --- значения признаков для данной строки.\n",
    "\n",
    "Чтобы узнать, например, возраст первого пациента (не запоминая его в отдельную переменную), нужно применить явное индексирование (loc):"
   ]
  },
  {
   "cell_type": "code",
   "execution_count": 11,
   "id": "5acd230c-949d-489d-8b1a-9981fe8e7392",
   "metadata": {},
   "outputs": [
    {
     "name": "stdout",
     "output_type": "stream",
     "text": [
      "18393\n"
     ]
    }
   ],
   "source": [
    "print(data.loc[0, 'age'])"
   ]
  },
  {
   "cell_type": "raw",
   "id": "458a3725-dbdc-4a50-a438-a474fa450e79",
   "metadata": {},
   "source": [
    "Вернёмся теперь к переменной h. Напомню, в ней мы сохранили все значения из столбца \"рост\". Рост указан в сантиметрах. Переведём в метры."
   ]
  },
  {
   "cell_type": "code",
   "execution_count": 12,
   "id": "bb5bf402-f1db-4b26-8141-2f990c57cb93",
   "metadata": {},
   "outputs": [
    {
     "data": {
      "text/plain": [
       "0    1.68\n",
       "1    1.56\n",
       "2    1.65\n",
       "3    1.69\n",
       "4    1.56\n",
       "5    1.51\n",
       "6    1.57\n",
       "7    1.78\n",
       "8    1.58\n",
       "9    1.64\n",
       "Name: height, dtype: float64"
      ]
     },
     "execution_count": 12,
     "metadata": {},
     "output_type": "execute_result"
    }
   ],
   "source": [
    "h_meters = h / 100 # предельно просто!\n",
    "h_meters[:10] # в отдельных столбцах уже можно применять \"обычные\" срезы, как в списках"
   ]
  },
  {
   "cell_type": "raw",
   "id": "726cf067-a898-4c06-a9fa-65cb758fbb4f",
   "metadata": {},
   "source": [
    "Выше на нескольких диаграммах мы видели, что среди значений роста присутствуют ошибки. Давайте посмотрим, сколько пациентов имеют рост ниже 125 см. Внимание, вопрос --- как решить эту задачу в классическом стиле?"
   ]
  },
  {
   "cell_type": "code",
   "execution_count": 13,
   "id": "d7baae97-15dd-4314-8c7e-a2028b03a44e",
   "metadata": {},
   "outputs": [
    {
     "name": "stdout",
     "output_type": "stream",
     "text": [
      "5.32 ms ± 14.9 µs per loop (mean ± std. dev. of 7 runs, 100 loops each)\n"
     ]
    }
   ],
   "source": [
    "%%timeit\n",
    "lilliputs = 0\n",
    "for value in h:\n",
    "    if value < 125:\n",
    "        lilliputs = lilliputs + 1"
   ]
  },
  {
   "cell_type": "raw",
   "id": "598fea27-b44a-4d26-b233-36802a2a9462",
   "metadata": {},
   "source": [
    "А теперь решим ту же задачу в NumPy-стиле:"
   ]
  },
  {
   "cell_type": "code",
   "execution_count": 14,
   "id": "ff80a33a-3684-4be8-a532-472ddbb5fb84",
   "metadata": {},
   "outputs": [
    {
     "name": "stdout",
     "output_type": "stream",
     "text": [
      "135 µs ± 276 ns per loop (mean ± std. dev. of 7 runs, 10,000 loops each)\n"
     ]
    }
   ],
   "source": [
    "%%timeit\n",
    "h[h < 125].shape[0]"
   ]
  },
  {
   "cell_type": "markdown",
   "id": "b57fab9a-73b1-435b-a318-5117ec3ae63d",
   "metadata": {},
   "source": [
    "Итак, второй способ оказался быстрее приблизительно в 5 раз на наборе данных из 70000 значений (относительно небольшом). С ростом длины вектора циклы становятся в сотни и тысячи раз медленнее, чем векторизованные операции NumPy"
   ]
  },
  {
   "cell_type": "raw",
   "id": "9c4cd1a1-5687-4170-9140-b56ba7d8e514",
   "metadata": {},
   "source": [
    "Итак, выборку из массива значений можно выполнять по условному индексу. Похожим образом это работает и для отбора строк в датафрейме."
   ]
  },
  {
   "cell_type": "code",
   "execution_count": 16,
   "id": "6b6747d5-a56d-4069-9f50-36b8207ceba7",
   "metadata": {},
   "outputs": [
    {
     "data": {
      "text/plain": [
       "52.30366281251596"
      ]
     },
     "execution_count": 16,
     "metadata": {},
     "output_type": "execute_result"
    }
   ],
   "source": [
    "# Вычислим средний возраст людей, склонных к курению\n",
    "data[data['smoke'] == 1]['age'].mean() / 365"
   ]
  },
  {
   "cell_type": "code",
   "execution_count": null,
   "id": "3d818956-7bcd-48cf-b021-772023138a7b",
   "metadata": {},
   "outputs": [],
   "source": []
  }
 ],
 "metadata": {
  "kernelspec": {
   "display_name": "Python 3 (ipykernel)",
   "language": "python",
   "name": "python3"
  },
  "language_info": {
   "codemirror_mode": {
    "name": "ipython",
    "version": 3
   },
   "file_extension": ".py",
   "mimetype": "text/x-python",
   "name": "python",
   "nbconvert_exporter": "python",
   "pygments_lexer": "ipython3",
   "version": "3.9.13"
  }
 },
 "nbformat": 4,
 "nbformat_minor": 5
}
